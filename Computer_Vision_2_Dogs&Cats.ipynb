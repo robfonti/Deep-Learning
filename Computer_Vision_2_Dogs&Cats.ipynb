{
  "nbformat": 4,
  "nbformat_minor": 0,
  "metadata": {
    "colab": {
      "name": "Computer Vision 2_Dogs&Cats.ipynb",
      "provenance": [],
      "collapsed_sections": [],
      "authorship_tag": "ABX9TyOF06HfX9Y5HfsEE6C8XsvI",
      "include_colab_link": true
    },
    "kernelspec": {
      "name": "python3",
      "display_name": "Python 3"
    },
    "language_info": {
      "name": "python"
    },
    "accelerator": "GPU"
  },
  "cells": [
    {
      "cell_type": "markdown",
      "metadata": {
        "id": "view-in-github",
        "colab_type": "text"
      },
      "source": [
        "<a href=\"https://colab.research.google.com/github/robfonti/Deep-Learning/blob/Projects/Computer_Vision_2_Dogs%26Cats.ipynb\" target=\"_parent\"><img src=\"https://colab.research.google.com/assets/colab-badge.svg\" alt=\"Open In Colab\"/></a>"
      ]
    },
    {
      "cell_type": "markdown",
      "metadata": {
        "id": "tA637RhOAI43"
      },
      "source": [
        "## Classifying Dogs and Cats with a Convolutional Neural Network"
      ]
    },
    {
      "cell_type": "markdown",
      "metadata": {
        "id": "IyX6NugX3VtC"
      },
      "source": [
        "Images are medium-resolution color jpegs of dogs and cats."
      ]
    },
    {
      "cell_type": "code",
      "metadata": {
        "id": "zw3u53-B2rCK"
      },
      "source": [
        "import os,shutil\n",
        "import pandas as pd\n",
        "from google.colab import drive"
      ],
      "execution_count": 2,
      "outputs": []
    },
    {
      "cell_type": "markdown",
      "metadata": {
        "id": "J6zgzz9y_3HL"
      },
      "source": [
        "Working in the cloud, so I have to mount my google drive to access the data set."
      ]
    },
    {
      "cell_type": "code",
      "metadata": {
        "id": "qI5NEVWN9A8W"
      },
      "source": [
        "drive.mount('/content/drive')"
      ],
      "execution_count": null,
      "outputs": []
    },
    {
      "cell_type": "markdown",
      "metadata": {
        "id": "r9Zdn5sSAWD7"
      },
      "source": [
        "Next couple of cells are just geared towards taking the data and putting it in the right locations.  We'll need a parent training folder with separate directories for training_dogs,training_cats. Same thing for the validation data."
      ]
    },
    {
      "cell_type": "code",
      "metadata": {
        "colab": {
          "base_uri": "https://localhost:8080/"
        },
        "id": "ODfQ-x4B3s0B",
        "outputId": "84a07025-cf6b-4a16-d337-31e276e1942b"
      },
      "source": [
        "#dataset_directory = 'drive/My Drive/Colab Notebooks/Dogs&Cats/dataset'\n",
        "dataset_directory = 'drive/My Drive/Colab Notebooks/Dogs&Cats2/dogs-vs-cats-unzipped'\n",
        "print(os.getcwd())\n",
        "os.chdir(dataset_directory)\n",
        "os.mkdir('training')\n",
        "os.chdir('training')\n",
        "os.mkdir('train_dogs')\n",
        "os.mkdir('train_cats')\n"
      ],
      "execution_count": 6,
      "outputs": [
        {
          "output_type": "stream",
          "text": [
            "/content\n"
          ],
          "name": "stdout"
        }
      ]
    },
    {
      "cell_type": "code",
      "metadata": {
        "id": "sXSWQxRsAAGt"
      },
      "source": [
        "#os.chdir('dogs-vs-cats-unzipped')\n",
        "\n",
        "# Move 1000 dog images to training/train_dogs\n",
        "# Move 1000 cat images to training/train_cats\n",
        "\n",
        "training_path = 'train'\n",
        "\n",
        "fnames = ['cat.{}.jpg'.format(i) for i in range(1,1000)]\n",
        "\n",
        "# Cats\n",
        "for fname in fnames:\n",
        "  source = os.path.join(training_path,fname)\n",
        "  dest = os.path.join('training','train_cats')\n",
        "  shutil.move(source,dest)"
      ],
      "execution_count": null,
      "outputs": []
    },
    {
      "cell_type": "code",
      "metadata": {
        "id": "Vy6cPyncCFZJ"
      },
      "source": [
        "# Dogs\n",
        "\n",
        "fnames = ['dog.{}.jpg'.format(i) for i in range(1,1000)]\n",
        "\n",
        "for fname in fnames:\n",
        "  source = os.path.join(training_path,fname)\n",
        "  dest = os.path.join('training','train_dogs')\n",
        "  shutil.move(source,dest)\n",
        "\n",
        "# Validation set for dogs\n",
        "fnames = ['dog.{}.jpg'.format(i) for i in range(1001,1501)]\n",
        "for fname in fnames:\n",
        "  source = os.path.join(training_path,fname)\n",
        "  dest = os.path.join('Validation','val_dogs')\n",
        "  shutil.move(source,dest)\n",
        "\n",
        "# Validation set for cats\n",
        "fnames = ['cat.{}.jpg'.format(i) for i in range(1001,1501)]\n",
        "for fname in fnames:\n",
        "  source = os.path.join(training_path,fname)\n",
        "  dest = os.path.join('Validation','val_cats')\n",
        "  shutil.move(source,dest)"
      ],
      "execution_count": 13,
      "outputs": []
    },
    {
      "cell_type": "markdown",
      "metadata": {
        "id": "xwUVBukg0y8c"
      },
      "source": [
        "Now lets layout out our network"
      ]
    },
    {
      "cell_type": "code",
      "metadata": {
        "id": "0N5i-I6x0ycs"
      },
      "source": [
        "from keras import layers\n",
        "from keras import models\n",
        "from keras import optimizers\n",
        "\n",
        "model = models.Sequential()\n",
        "model.add(layers.Conv2D(32,(3,3),activation='relu',input_shape=(150,150,3))) #150 pixels*150 pixels*3 channels. Layer will look for 32 features in 3x3 windows\n",
        "model.add(layers.MaxPooling2D((2,2)))\n",
        "model.add(layers.Conv2D(64,(3,3),activation='relu'))\n",
        "model.add(layers.MaxPooling2D((2,2)))\n",
        "model.add(layers.Conv2D(128,(3,3),activation='relu'))\n",
        "model.add(layers.MaxPooling2D((2,2)))\n",
        "model.add(layers.Conv2D(128,(3,3),activation='relu'))\n",
        "model.add(layers.MaxPooling2D((2,2)))\n",
        "model.add(layers.Flatten()) # To transform into vector data that we can feed into a dense network\n",
        "model.add(layers.Dense(units=512,activation='relu'))\n",
        "model.add(layers.Dense(units=1,activation='sigmoid')) # Just one unit needed to represent prob of dog\n",
        "\n",
        "# Choose an optimizer, loss, and metrics\n",
        "model.compile(optimizer= optimizers.RMSprop(lr=1e-4),loss='binary_crossentropy',metrics=['accuracy'])\n"
      ],
      "execution_count": 4,
      "outputs": []
    },
    {
      "cell_type": "markdown",
      "metadata": {
        "id": "1UiJofYl3yia"
      },
      "source": [
        "Lets check out our feature map and its dimensions change throughout the network"
      ]
    },
    {
      "cell_type": "code",
      "metadata": {
        "colab": {
          "base_uri": "https://localhost:8080/"
        },
        "id": "ibQV6plN3x1l",
        "outputId": "a725b53c-4de9-49d1-fd2a-cf3ca9ce62bc"
      },
      "source": [
        "model.summary()"
      ],
      "execution_count": 5,
      "outputs": [
        {
          "output_type": "stream",
          "text": [
            "Model: \"sequential\"\n",
            "_________________________________________________________________\n",
            "Layer (type)                 Output Shape              Param #   \n",
            "=================================================================\n",
            "conv2d (Conv2D)              (None, 148, 148, 32)      896       \n",
            "_________________________________________________________________\n",
            "max_pooling2d (MaxPooling2D) (None, 74, 74, 32)        0         \n",
            "_________________________________________________________________\n",
            "conv2d_1 (Conv2D)            (None, 72, 72, 64)        18496     \n",
            "_________________________________________________________________\n",
            "max_pooling2d_1 (MaxPooling2 (None, 36, 36, 64)        0         \n",
            "_________________________________________________________________\n",
            "conv2d_2 (Conv2D)            (None, 34, 34, 128)       73856     \n",
            "_________________________________________________________________\n",
            "max_pooling2d_2 (MaxPooling2 (None, 17, 17, 128)       0         \n",
            "_________________________________________________________________\n",
            "conv2d_3 (Conv2D)            (None, 15, 15, 128)       147584    \n",
            "_________________________________________________________________\n",
            "max_pooling2d_3 (MaxPooling2 (None, 7, 7, 128)         0         \n",
            "_________________________________________________________________\n",
            "flatten (Flatten)            (None, 6272)              0         \n",
            "_________________________________________________________________\n",
            "dense (Dense)                (None, 512)               3211776   \n",
            "_________________________________________________________________\n",
            "dense_1 (Dense)              (None, 1)                 513       \n",
            "=================================================================\n",
            "Total params: 3,453,121\n",
            "Trainable params: 3,453,121\n",
            "Non-trainable params: 0\n",
            "_________________________________________________________________\n"
          ],
          "name": "stdout"
        }
      ]
    },
    {
      "cell_type": "code",
      "metadata": {
        "id": "G2NsJJ0kpqzY"
      },
      "source": [
        "os.chdir('drive/My Drive/Colab Notebooks/Dogs&Cats2/dogs-vs-cats-unzipped')"
      ],
      "execution_count": 7,
      "outputs": []
    },
    {
      "cell_type": "markdown",
      "metadata": {
        "id": "cNjRz8xv0hkl"
      },
      "source": [
        "\n",
        "We know that data should be formatted into preprocessed floating point tensors before being fed into a network.  Currently, the data is all in the form of JPEG files... so in order to use it in the network we need to\n",
        "1.) Read the picture files\n",
        "2.) Decode the JPEG into RGB grids of pixels\n",
        "3.) Convert these into floating point tensors\n",
        "4.) Rescale the pixel values (between 0 and 255) to between [0,1]..neural networks prefer to deal with small input values.\n",
        "\n",
        "Keras has a module with image processing helper tools to handle things like this. *ImageDataGenerator* can automatically turn image files into batches of preprocessed tensors.  That is what we will use here."
      ]
    },
    {
      "cell_type": "code",
      "metadata": {
        "colab": {
          "base_uri": "https://localhost:8080/"
        },
        "id": "lyfgdIQ10fpE",
        "outputId": "c2f5bc73-0f48-4318-93a6-a31d8d1a79d3"
      },
      "source": [
        "from keras.preprocessing.image import ImageDataGenerator\n",
        "\n",
        "print(os.getcwd())\n",
        "\n",
        "train_directory = 'training'\n",
        "validation_directory = 'Validation'\n",
        "\n",
        "train_datagen = ImageDataGenerator(rescale=1./255)\n",
        "test_datagen = ImageDataGenerator(rescale=1./255)\n",
        "\n",
        "train_generator = train_datagen.flow_from_directory(\n",
        "    train_directory,\n",
        "    target_size = (150,150), # Resizes all images to 150x150\n",
        "    batch_size=20,\n",
        "    class_mode='binary') # One folder for cats, one folder for dogs.\n",
        "\n",
        "    \n",
        "validation_generator = test_datagen.flow_from_directory(\n",
        "    validation_directory,\n",
        "    target_size=(150,150),\n",
        "    batch_size=20,\n",
        "    class_mode='binary')\n",
        "\n"
      ],
      "execution_count": 8,
      "outputs": [
        {
          "output_type": "stream",
          "text": [
            "/content/drive/My Drive/Colab Notebooks/Dogs&Cats2/dogs-vs-cats-unzipped\n",
            "Found 1998 images belonging to 2 classes.\n",
            "Found 1000 images belonging to 2 classes.\n"
          ],
          "name": "stdout"
        }
      ]
    },
    {
      "cell_type": "code",
      "metadata": {
        "id": "OlDc3oxhE2lA"
      },
      "source": [
        "?ImageDataGenerator"
      ],
      "execution_count": 12,
      "outputs": []
    },
    {
      "cell_type": "markdown",
      "metadata": {
        "id": "rVDZYgP9BtTm"
      },
      "source": [
        "Lets look at the output of these generators... should be batches of 20 (150,150,3) tensors.\n",
        "\n",
        "This also generates labels for us.  This is one of the reasons that we need to make sure that dogs and cats are in different folders in the training set, and the validation set contains 2 folders for dogs and cats as well."
      ]
    },
    {
      "cell_type": "code",
      "metadata": {
        "colab": {
          "base_uri": "https://localhost:8080/"
        },
        "id": "nekZJ-4tB-Zn",
        "outputId": "9e324079-37fc-473e-900c-179f96314ed0"
      },
      "source": [
        "for data_batch,labels_batch in validation_generator:\n",
        "  print('data batch shape:',data_batch.shape)\n",
        "  print('labels batch shape:',labels_batch.shape)\n",
        "  break"
      ],
      "execution_count": 35,
      "outputs": [
        {
          "output_type": "stream",
          "text": [
            "data batch shape: (20, 150, 150, 3)\n",
            "labels batch shape: (20,)\n"
          ],
          "name": "stdout"
        }
      ]
    },
    {
      "cell_type": "code",
      "metadata": {
        "colab": {
          "base_uri": "https://localhost:8080/"
        },
        "id": "GGl_1HINCzWF",
        "outputId": "4f2c0671-4864-4624-da15-dbc734e414a9"
      },
      "source": [
        "history = model.fit_generator(train_generator,\n",
        "                              steps_per_epoch=100,\n",
        "                              epochs=30,\n",
        "                              validation_data=validation_generator,\n",
        "                              validation_steps=50)"
      ],
      "execution_count": 9,
      "outputs": [
        {
          "output_type": "stream",
          "text": [
            "/usr/local/lib/python3.7/dist-packages/tensorflow/python/keras/engine/training.py:1844: UserWarning: `Model.fit_generator` is deprecated and will be removed in a future version. Please use `Model.fit`, which supports generators.\n",
            "  warnings.warn('`Model.fit_generator` is deprecated and '\n"
          ],
          "name": "stderr"
        },
        {
          "output_type": "stream",
          "text": [
            "Epoch 1/30\n",
            "100/100 [==============================] - 616s 6s/step - loss: 0.7081 - accuracy: 0.4959 - val_loss: 0.6759 - val_accuracy: 0.5410\n",
            "Epoch 2/30\n",
            "100/100 [==============================] - 12s 118ms/step - loss: 0.6689 - accuracy: 0.5927 - val_loss: 0.6474 - val_accuracy: 0.6300\n",
            "Epoch 3/30\n",
            "100/100 [==============================] - 12s 116ms/step - loss: 0.6331 - accuracy: 0.6404 - val_loss: 0.6107 - val_accuracy: 0.6660\n",
            "Epoch 4/30\n",
            "100/100 [==============================] - 12s 116ms/step - loss: 0.5676 - accuracy: 0.7063 - val_loss: 0.5863 - val_accuracy: 0.6890\n",
            "Epoch 5/30\n",
            "100/100 [==============================] - 12s 116ms/step - loss: 0.5287 - accuracy: 0.7323 - val_loss: 0.5844 - val_accuracy: 0.6850\n",
            "Epoch 6/30\n",
            "100/100 [==============================] - 12s 117ms/step - loss: 0.5043 - accuracy: 0.7459 - val_loss: 0.5884 - val_accuracy: 0.6870\n",
            "Epoch 7/30\n",
            "100/100 [==============================] - 12s 116ms/step - loss: 0.4863 - accuracy: 0.7625 - val_loss: 0.5816 - val_accuracy: 0.7010\n",
            "Epoch 8/30\n",
            "100/100 [==============================] - 12s 116ms/step - loss: 0.4510 - accuracy: 0.7931 - val_loss: 0.5681 - val_accuracy: 0.6970\n",
            "Epoch 9/30\n",
            "100/100 [==============================] - 12s 116ms/step - loss: 0.4171 - accuracy: 0.8053 - val_loss: 0.5960 - val_accuracy: 0.6950\n",
            "Epoch 10/30\n",
            "100/100 [==============================] - 12s 117ms/step - loss: 0.4076 - accuracy: 0.8166 - val_loss: 0.5685 - val_accuracy: 0.7110\n",
            "Epoch 11/30\n",
            "100/100 [==============================] - 12s 119ms/step - loss: 0.3685 - accuracy: 0.8332 - val_loss: 0.6603 - val_accuracy: 0.6880\n",
            "Epoch 12/30\n",
            "100/100 [==============================] - 12s 116ms/step - loss: 0.3682 - accuracy: 0.8385 - val_loss: 0.5702 - val_accuracy: 0.7290\n",
            "Epoch 13/30\n",
            "100/100 [==============================] - 12s 118ms/step - loss: 0.3102 - accuracy: 0.8693 - val_loss: 0.6150 - val_accuracy: 0.7110\n",
            "Epoch 14/30\n",
            "100/100 [==============================] - 12s 115ms/step - loss: 0.2960 - accuracy: 0.8710 - val_loss: 0.6413 - val_accuracy: 0.7190\n",
            "Epoch 15/30\n",
            "100/100 [==============================] - 11s 114ms/step - loss: 0.2640 - accuracy: 0.8952 - val_loss: 0.6281 - val_accuracy: 0.7180\n",
            "Epoch 16/30\n",
            "100/100 [==============================] - 12s 116ms/step - loss: 0.2582 - accuracy: 0.8882 - val_loss: 0.6940 - val_accuracy: 0.7250\n",
            "Epoch 17/30\n",
            "100/100 [==============================] - 12s 116ms/step - loss: 0.2294 - accuracy: 0.9059 - val_loss: 0.7004 - val_accuracy: 0.7180\n",
            "Epoch 18/30\n",
            "100/100 [==============================] - 12s 116ms/step - loss: 0.2076 - accuracy: 0.9206 - val_loss: 0.6430 - val_accuracy: 0.7280\n",
            "Epoch 19/30\n",
            "100/100 [==============================] - 12s 116ms/step - loss: 0.1952 - accuracy: 0.9225 - val_loss: 0.9193 - val_accuracy: 0.7020\n",
            "Epoch 20/30\n",
            "100/100 [==============================] - 11s 114ms/step - loss: 0.1667 - accuracy: 0.9376 - val_loss: 0.7273 - val_accuracy: 0.7230\n",
            "Epoch 21/30\n",
            "100/100 [==============================] - 12s 116ms/step - loss: 0.1403 - accuracy: 0.9534 - val_loss: 0.7542 - val_accuracy: 0.7300\n",
            "Epoch 22/30\n",
            "100/100 [==============================] - 12s 116ms/step - loss: 0.1281 - accuracy: 0.9551 - val_loss: 1.0708 - val_accuracy: 0.6920\n",
            "Epoch 23/30\n",
            "100/100 [==============================] - 12s 116ms/step - loss: 0.1237 - accuracy: 0.9537 - val_loss: 0.8355 - val_accuracy: 0.7000\n",
            "Epoch 24/30\n",
            "100/100 [==============================] - 12s 117ms/step - loss: 0.0969 - accuracy: 0.9757 - val_loss: 0.8155 - val_accuracy: 0.7320\n",
            "Epoch 25/30\n",
            "100/100 [==============================] - 12s 119ms/step - loss: 0.0725 - accuracy: 0.9784 - val_loss: 0.9450 - val_accuracy: 0.7160\n",
            "Epoch 26/30\n",
            "100/100 [==============================] - 12s 118ms/step - loss: 0.0636 - accuracy: 0.9853 - val_loss: 0.8550 - val_accuracy: 0.7120\n",
            "Epoch 27/30\n",
            "100/100 [==============================] - 12s 118ms/step - loss: 0.0634 - accuracy: 0.9846 - val_loss: 1.5315 - val_accuracy: 0.6500\n",
            "Epoch 28/30\n",
            "100/100 [==============================] - 12s 118ms/step - loss: 0.0586 - accuracy: 0.9870 - val_loss: 1.0858 - val_accuracy: 0.7080\n",
            "Epoch 29/30\n",
            "100/100 [==============================] - 12s 117ms/step - loss: 0.0429 - accuracy: 0.9895 - val_loss: 1.0074 - val_accuracy: 0.7300\n",
            "Epoch 30/30\n",
            "100/100 [==============================] - 12s 119ms/step - loss: 0.0283 - accuracy: 0.9954 - val_loss: 1.1221 - val_accuracy: 0.7160\n"
          ],
          "name": "stdout"
        }
      ]
    },
    {
      "cell_type": "markdown",
      "metadata": {
        "id": "w79CMwa2qQ-H"
      },
      "source": [
        "The plots indicate clear overfitting taking place within the model.  Training accuracy approaches 99% whereas the validation accuracy peaks around 74%"
      ]
    },
    {
      "cell_type": "markdown",
      "metadata": {
        "id": "NXhuOYgGVK29"
      },
      "source": [
        "Great, everything works and our model is able to guess correctly ~ 3/4 times.  Not bad considering we're only using 1000 training examples from each class, but can we improve this?  We can...\n",
        "\n",
        "We can implement some dropout.  There is also a method almost universally used that is unique to computer vision... data-augmentation."
      ]
    },
    {
      "cell_type": "markdown",
      "metadata": {
        "id": "l2QkRlwUqsiX"
      },
      "source": [
        "Overfitting is caused by having too few samples to learn from, rendering us unable to train a model that can generalize to new data.  Given infinite data, the model would be exposed to every possible aspect of the data distribution at hand and we would never overfit.  \n",
        "\n",
        "**Data augmentation takes the approach of generating more training samples via a number of random transformations that yield believable looking images.  The goal is that, at training time, the model will never see the same picture twice.**\n",
        "\n",
        "\n",
        "In keras, this can be done by configuring a number of random transformations to be perfomred on the images read by the ImageDataGenerator instance."
      ]
    },
    {
      "cell_type": "code",
      "metadata": {
        "id": "elZvOzJ3Bm6k"
      },
      "source": [
        "# Example Format\n",
        "\n",
        "datagen = ImageDataGenerator(\n",
        "    rotation_range = 40,\n",
        "    width_shift_range = 0.2,\n",
        "    height_shift_range = 0.2,\n",
        "    shear_range = 0.2,\n",
        "    zoom_range = 0.2,\n",
        "    horizontal_flip = True,\n",
        "    fill_mode = 'nearest'\n",
        ")"
      ],
      "execution_count": 10,
      "outputs": []
    },
    {
      "cell_type": "markdown",
      "metadata": {
        "id": "57TbkWZoVJ1H"
      },
      "source": [
        "Lets also add a dropout layer, right before the Dense layer."
      ]
    },
    {
      "cell_type": "code",
      "metadata": {
        "id": "NOuyaZu5un3Q"
      },
      "source": [
        "model2 = models.Sequential()\n",
        "model2.add(layers.Conv2D(32,(3,3),activation='relu',input_shape=(150,150,3))) #150 pixels*150 pixels*3 channels. Layer will look for 32 features in 3x3 windows\n",
        "model2.add(layers.MaxPooling2D((2,2)))\n",
        "model2.add(layers.Conv2D(64,(3,3),activation='relu'))\n",
        "model2.add(layers.MaxPooling2D((2,2)))\n",
        "model2.add(layers.Conv2D(128,(3,3),activation='relu'))\n",
        "model2.add(layers.MaxPooling2D((2,2)))\n",
        "model2.add(layers.Conv2D(128,(3,3),activation='relu'))\n",
        "model2.add(layers.MaxPooling2D((2,2)))\n",
        "model2.add(layers.Flatten()) # To transform into vector data that we can feed into a dense network\n",
        "model2.add(layers.Dropout(0.4))\n",
        "model2.add(layers.Dense(units=512,activation='relu'))\n",
        "model2.add(layers.Dense(units=1,activation='sigmoid')) # Just one unit needed to represent prob of dog\n",
        "\n",
        "# Choose an optimizer, loss, and metrics\n",
        "model2.compile(optimizer= optimizers.RMSprop(lr=1e-4),loss='binary_crossentropy',metrics=['accuracy'])"
      ],
      "execution_count": 18,
      "outputs": []
    },
    {
      "cell_type": "code",
      "metadata": {
        "colab": {
          "base_uri": "https://localhost:8080/"
        },
        "id": "jI2o2G6zvGkO",
        "outputId": "abf12169-32e8-442e-e1f1-5f5f331fa854"
      },
      "source": [
        "train_datagen = ImageDataGenerator(\n",
        "    rescale = 1./255,\n",
        "    rotation_range = 40,\n",
        "    width_shift_range = 0.2,\n",
        "    height_shift_range = 0.2,\n",
        "    shear_range = 0.2,\n",
        "    zoom_range = 0.2,\n",
        "    horizontal_flip = True,    \n",
        ")\n",
        "\n",
        "test_datagen = ImageDataGenerator(rescale=1./255)\n",
        "\n",
        "train_generator = train_datagen.flow_from_directory(\n",
        "    train_directory,\n",
        "    target_size=(150,150),\n",
        "    batch_size=20,\n",
        "    class_mode='binary')\n",
        "\n",
        "validation_generator = test_datagen.flow_from_directory(\n",
        "    validation_directory,\n",
        "    target_size=(150,150),\n",
        "    batch_size=20,\n",
        "    class_mode = 'binary'\n",
        ")\n",
        "\n",
        "history2 = model2.fit_generator(\n",
        "    train_generator,\n",
        "    steps_per_epoch = 100,\n",
        "    epochs=100,\n",
        "    validation_data=validation_generator,\n",
        "    validation_steps=50\n",
        ")\n",
        "\n",
        "# Noted that we can train for many more epochs now, because the training accuracy isnt at 99% after 30 epochs like last time"
      ],
      "execution_count": 19,
      "outputs": [
        {
          "output_type": "stream",
          "text": [
            "Found 1998 images belonging to 2 classes.\n",
            "Found 1000 images belonging to 2 classes.\n"
          ],
          "name": "stdout"
        },
        {
          "output_type": "stream",
          "text": [
            "/usr/local/lib/python3.7/dist-packages/tensorflow/python/keras/engine/training.py:1844: UserWarning: `Model.fit_generator` is deprecated and will be removed in a future version. Please use `Model.fit`, which supports generators.\n",
            "  warnings.warn('`Model.fit_generator` is deprecated and '\n"
          ],
          "name": "stderr"
        },
        {
          "output_type": "stream",
          "text": [
            "Epoch 1/100\n",
            "100/100 [==============================] - 21s 204ms/step - loss: 0.6969 - accuracy: 0.5064 - val_loss: 0.6981 - val_accuracy: 0.5000\n",
            "Epoch 2/100\n",
            "100/100 [==============================] - 20s 204ms/step - loss: 0.6887 - accuracy: 0.5428 - val_loss: 0.6942 - val_accuracy: 0.5320\n",
            "Epoch 3/100\n",
            "100/100 [==============================] - 20s 203ms/step - loss: 0.6861 - accuracy: 0.5470 - val_loss: 0.6561 - val_accuracy: 0.6000\n",
            "Epoch 4/100\n",
            "100/100 [==============================] - 20s 202ms/step - loss: 0.6592 - accuracy: 0.6118 - val_loss: 0.6529 - val_accuracy: 0.6180\n",
            "Epoch 5/100\n",
            "100/100 [==============================] - 20s 201ms/step - loss: 0.6631 - accuracy: 0.6036 - val_loss: 0.7731 - val_accuracy: 0.5260\n",
            "Epoch 6/100\n",
            "100/100 [==============================] - 20s 202ms/step - loss: 0.6348 - accuracy: 0.6276 - val_loss: 0.6046 - val_accuracy: 0.6610\n",
            "Epoch 7/100\n",
            "100/100 [==============================] - 20s 200ms/step - loss: 0.6192 - accuracy: 0.6511 - val_loss: 0.6066 - val_accuracy: 0.6600\n",
            "Epoch 8/100\n",
            "100/100 [==============================] - 20s 198ms/step - loss: 0.6168 - accuracy: 0.6562 - val_loss: 0.6028 - val_accuracy: 0.6620\n",
            "Epoch 9/100\n",
            "100/100 [==============================] - 20s 200ms/step - loss: 0.6013 - accuracy: 0.6582 - val_loss: 0.5797 - val_accuracy: 0.6860\n",
            "Epoch 10/100\n",
            "100/100 [==============================] - 20s 201ms/step - loss: 0.5902 - accuracy: 0.6735 - val_loss: 0.5648 - val_accuracy: 0.7020\n",
            "Epoch 11/100\n",
            "100/100 [==============================] - 20s 199ms/step - loss: 0.6056 - accuracy: 0.6637 - val_loss: 0.6534 - val_accuracy: 0.6110\n",
            "Epoch 12/100\n",
            "100/100 [==============================] - 20s 201ms/step - loss: 0.5827 - accuracy: 0.6923 - val_loss: 0.5500 - val_accuracy: 0.7040\n",
            "Epoch 13/100\n",
            "100/100 [==============================] - 20s 200ms/step - loss: 0.5595 - accuracy: 0.7059 - val_loss: 0.5898 - val_accuracy: 0.6680\n",
            "Epoch 14/100\n",
            "100/100 [==============================] - 20s 201ms/step - loss: 0.5741 - accuracy: 0.7052 - val_loss: 0.5556 - val_accuracy: 0.7180\n",
            "Epoch 15/100\n",
            "100/100 [==============================] - 20s 202ms/step - loss: 0.5621 - accuracy: 0.7073 - val_loss: 0.5720 - val_accuracy: 0.6930\n",
            "Epoch 16/100\n",
            "100/100 [==============================] - 20s 201ms/step - loss: 0.5723 - accuracy: 0.6898 - val_loss: 0.5492 - val_accuracy: 0.7150\n",
            "Epoch 17/100\n",
            "100/100 [==============================] - 20s 201ms/step - loss: 0.5778 - accuracy: 0.6883 - val_loss: 0.5541 - val_accuracy: 0.7170\n",
            "Epoch 18/100\n",
            "100/100 [==============================] - 20s 203ms/step - loss: 0.5525 - accuracy: 0.7148 - val_loss: 0.5578 - val_accuracy: 0.7090\n",
            "Epoch 19/100\n",
            "100/100 [==============================] - 20s 200ms/step - loss: 0.5609 - accuracy: 0.6912 - val_loss: 0.6031 - val_accuracy: 0.6770\n",
            "Epoch 20/100\n",
            "100/100 [==============================] - 20s 200ms/step - loss: 0.5534 - accuracy: 0.7017 - val_loss: 0.5667 - val_accuracy: 0.6950\n",
            "Epoch 21/100\n",
            "100/100 [==============================] - 20s 198ms/step - loss: 0.5506 - accuracy: 0.7132 - val_loss: 0.5162 - val_accuracy: 0.7380\n",
            "Epoch 22/100\n",
            "100/100 [==============================] - 20s 198ms/step - loss: 0.5467 - accuracy: 0.7254 - val_loss: 0.5213 - val_accuracy: 0.7260\n",
            "Epoch 23/100\n",
            "100/100 [==============================] - 20s 204ms/step - loss: 0.5438 - accuracy: 0.7210 - val_loss: 0.5247 - val_accuracy: 0.7200\n",
            "Epoch 24/100\n",
            "100/100 [==============================] - 20s 201ms/step - loss: 0.5498 - accuracy: 0.7315 - val_loss: 0.5228 - val_accuracy: 0.7120\n",
            "Epoch 25/100\n",
            "100/100 [==============================] - 20s 196ms/step - loss: 0.5419 - accuracy: 0.7293 - val_loss: 0.5050 - val_accuracy: 0.7480\n",
            "Epoch 26/100\n",
            "100/100 [==============================] - 20s 198ms/step - loss: 0.5204 - accuracy: 0.7329 - val_loss: 0.5230 - val_accuracy: 0.7450\n",
            "Epoch 27/100\n",
            "100/100 [==============================] - 20s 198ms/step - loss: 0.5318 - accuracy: 0.7338 - val_loss: 0.5129 - val_accuracy: 0.7420\n",
            "Epoch 28/100\n",
            "100/100 [==============================] - 20s 201ms/step - loss: 0.5031 - accuracy: 0.7527 - val_loss: 0.5499 - val_accuracy: 0.7230\n",
            "Epoch 29/100\n",
            "100/100 [==============================] - 21s 207ms/step - loss: 0.5284 - accuracy: 0.7408 - val_loss: 0.5718 - val_accuracy: 0.7160\n",
            "Epoch 30/100\n",
            "100/100 [==============================] - 21s 210ms/step - loss: 0.5221 - accuracy: 0.7432 - val_loss: 0.5503 - val_accuracy: 0.7200\n",
            "Epoch 31/100\n",
            "100/100 [==============================] - 21s 206ms/step - loss: 0.5131 - accuracy: 0.7610 - val_loss: 0.4990 - val_accuracy: 0.7470\n",
            "Epoch 32/100\n",
            "100/100 [==============================] - 21s 206ms/step - loss: 0.5052 - accuracy: 0.7588 - val_loss: 0.5299 - val_accuracy: 0.7310\n",
            "Epoch 33/100\n",
            "100/100 [==============================] - 20s 204ms/step - loss: 0.4925 - accuracy: 0.7480 - val_loss: 0.5571 - val_accuracy: 0.7290\n",
            "Epoch 34/100\n",
            "100/100 [==============================] - 20s 200ms/step - loss: 0.5001 - accuracy: 0.7630 - val_loss: 0.4809 - val_accuracy: 0.7600\n",
            "Epoch 35/100\n",
            "100/100 [==============================] - 20s 202ms/step - loss: 0.4976 - accuracy: 0.7587 - val_loss: 0.5125 - val_accuracy: 0.7410\n",
            "Epoch 36/100\n",
            "100/100 [==============================] - 20s 201ms/step - loss: 0.5125 - accuracy: 0.7376 - val_loss: 0.4877 - val_accuracy: 0.7650\n",
            "Epoch 37/100\n",
            "100/100 [==============================] - 20s 200ms/step - loss: 0.4702 - accuracy: 0.7853 - val_loss: 0.4824 - val_accuracy: 0.7630\n",
            "Epoch 38/100\n",
            "100/100 [==============================] - 20s 202ms/step - loss: 0.4950 - accuracy: 0.7555 - val_loss: 0.4814 - val_accuracy: 0.7570\n",
            "Epoch 39/100\n",
            "100/100 [==============================] - 20s 204ms/step - loss: 0.4772 - accuracy: 0.7768 - val_loss: 0.4945 - val_accuracy: 0.7510\n",
            "Epoch 40/100\n",
            "100/100 [==============================] - 20s 204ms/step - loss: 0.4946 - accuracy: 0.7664 - val_loss: 0.6001 - val_accuracy: 0.7020\n",
            "Epoch 41/100\n",
            "100/100 [==============================] - 20s 203ms/step - loss: 0.4892 - accuracy: 0.7551 - val_loss: 0.4693 - val_accuracy: 0.7820\n",
            "Epoch 42/100\n",
            "100/100 [==============================] - 20s 202ms/step - loss: 0.4852 - accuracy: 0.7670 - val_loss: 0.4921 - val_accuracy: 0.7620\n",
            "Epoch 43/100\n",
            "100/100 [==============================] - 21s 206ms/step - loss: 0.4919 - accuracy: 0.7602 - val_loss: 0.5084 - val_accuracy: 0.7460\n",
            "Epoch 44/100\n",
            "100/100 [==============================] - 21s 206ms/step - loss: 0.4783 - accuracy: 0.7675 - val_loss: 0.4928 - val_accuracy: 0.7670\n",
            "Epoch 45/100\n",
            "100/100 [==============================] - 21s 206ms/step - loss: 0.4795 - accuracy: 0.7643 - val_loss: 0.4713 - val_accuracy: 0.7740\n",
            "Epoch 46/100\n",
            "100/100 [==============================] - 21s 207ms/step - loss: 0.4865 - accuracy: 0.7646 - val_loss: 0.4800 - val_accuracy: 0.7710\n",
            "Epoch 47/100\n",
            "100/100 [==============================] - 21s 207ms/step - loss: 0.4558 - accuracy: 0.7867 - val_loss: 0.4607 - val_accuracy: 0.7780\n",
            "Epoch 48/100\n",
            "100/100 [==============================] - 21s 207ms/step - loss: 0.4616 - accuracy: 0.7686 - val_loss: 0.4671 - val_accuracy: 0.7800\n",
            "Epoch 49/100\n",
            "100/100 [==============================] - 21s 206ms/step - loss: 0.4767 - accuracy: 0.7645 - val_loss: 0.4686 - val_accuracy: 0.7720\n",
            "Epoch 50/100\n",
            "100/100 [==============================] - 21s 208ms/step - loss: 0.4753 - accuracy: 0.7705 - val_loss: 0.4921 - val_accuracy: 0.7710\n",
            "Epoch 51/100\n",
            "100/100 [==============================] - 21s 208ms/step - loss: 0.4492 - accuracy: 0.7956 - val_loss: 0.4657 - val_accuracy: 0.7740\n",
            "Epoch 52/100\n",
            "100/100 [==============================] - 21s 207ms/step - loss: 0.4855 - accuracy: 0.7641 - val_loss: 0.4746 - val_accuracy: 0.7750\n",
            "Epoch 53/100\n",
            "100/100 [==============================] - 20s 202ms/step - loss: 0.4388 - accuracy: 0.7931 - val_loss: 0.4733 - val_accuracy: 0.7760\n",
            "Epoch 54/100\n",
            "100/100 [==============================] - 20s 202ms/step - loss: 0.4663 - accuracy: 0.7790 - val_loss: 0.4747 - val_accuracy: 0.7730\n",
            "Epoch 55/100\n",
            "100/100 [==============================] - 20s 202ms/step - loss: 0.4681 - accuracy: 0.7718 - val_loss: 0.4628 - val_accuracy: 0.7760\n",
            "Epoch 56/100\n",
            "100/100 [==============================] - 20s 203ms/step - loss: 0.4811 - accuracy: 0.7641 - val_loss: 0.4307 - val_accuracy: 0.7950\n",
            "Epoch 57/100\n",
            "100/100 [==============================] - 20s 202ms/step - loss: 0.4503 - accuracy: 0.7932 - val_loss: 0.4502 - val_accuracy: 0.7940\n",
            "Epoch 58/100\n",
            "100/100 [==============================] - 20s 203ms/step - loss: 0.4583 - accuracy: 0.7905 - val_loss: 0.5480 - val_accuracy: 0.7390\n",
            "Epoch 59/100\n",
            "100/100 [==============================] - 20s 205ms/step - loss: 0.4569 - accuracy: 0.7802 - val_loss: 0.7604 - val_accuracy: 0.6920\n",
            "Epoch 60/100\n",
            "100/100 [==============================] - 20s 204ms/step - loss: 0.4526 - accuracy: 0.8006 - val_loss: 0.5068 - val_accuracy: 0.7740\n",
            "Epoch 61/100\n",
            "100/100 [==============================] - 20s 205ms/step - loss: 0.4426 - accuracy: 0.7970 - val_loss: 0.4657 - val_accuracy: 0.7840\n",
            "Epoch 62/100\n",
            "100/100 [==============================] - 20s 204ms/step - loss: 0.4561 - accuracy: 0.7885 - val_loss: 0.5015 - val_accuracy: 0.7710\n",
            "Epoch 63/100\n",
            "100/100 [==============================] - 20s 204ms/step - loss: 0.4483 - accuracy: 0.7928 - val_loss: 0.4458 - val_accuracy: 0.8020\n",
            "Epoch 64/100\n",
            "100/100 [==============================] - 20s 204ms/step - loss: 0.4195 - accuracy: 0.8068 - val_loss: 0.5415 - val_accuracy: 0.7610\n",
            "Epoch 65/100\n",
            "100/100 [==============================] - 20s 204ms/step - loss: 0.4271 - accuracy: 0.7948 - val_loss: 0.4902 - val_accuracy: 0.7840\n",
            "Epoch 66/100\n",
            "100/100 [==============================] - 20s 205ms/step - loss: 0.4527 - accuracy: 0.8016 - val_loss: 0.4760 - val_accuracy: 0.7880\n",
            "Epoch 67/100\n",
            "100/100 [==============================] - 20s 203ms/step - loss: 0.4414 - accuracy: 0.7898 - val_loss: 0.4891 - val_accuracy: 0.7920\n",
            "Epoch 68/100\n",
            "100/100 [==============================] - 20s 201ms/step - loss: 0.4225 - accuracy: 0.8041 - val_loss: 0.4870 - val_accuracy: 0.7770\n",
            "Epoch 69/100\n",
            "100/100 [==============================] - 20s 203ms/step - loss: 0.4104 - accuracy: 0.8086 - val_loss: 0.4188 - val_accuracy: 0.8120\n",
            "Epoch 70/100\n",
            "100/100 [==============================] - 20s 202ms/step - loss: 0.4423 - accuracy: 0.7987 - val_loss: 0.4318 - val_accuracy: 0.7960\n",
            "Epoch 71/100\n",
            "100/100 [==============================] - 20s 204ms/step - loss: 0.4100 - accuracy: 0.7960 - val_loss: 0.4916 - val_accuracy: 0.7970\n",
            "Epoch 72/100\n",
            "100/100 [==============================] - 20s 202ms/step - loss: 0.4315 - accuracy: 0.8050 - val_loss: 0.4417 - val_accuracy: 0.8030\n",
            "Epoch 73/100\n",
            "100/100 [==============================] - 20s 202ms/step - loss: 0.4083 - accuracy: 0.8184 - val_loss: 0.4437 - val_accuracy: 0.8060\n",
            "Epoch 74/100\n",
            "100/100 [==============================] - 20s 204ms/step - loss: 0.4097 - accuracy: 0.8139 - val_loss: 0.4548 - val_accuracy: 0.7920\n",
            "Epoch 75/100\n",
            "100/100 [==============================] - 20s 203ms/step - loss: 0.4160 - accuracy: 0.8038 - val_loss: 0.4574 - val_accuracy: 0.7940\n",
            "Epoch 76/100\n",
            "100/100 [==============================] - 20s 204ms/step - loss: 0.4086 - accuracy: 0.8141 - val_loss: 0.5271 - val_accuracy: 0.7600\n",
            "Epoch 77/100\n",
            "100/100 [==============================] - 20s 205ms/step - loss: 0.4125 - accuracy: 0.8082 - val_loss: 0.4396 - val_accuracy: 0.8060\n",
            "Epoch 78/100\n",
            "100/100 [==============================] - 20s 203ms/step - loss: 0.4077 - accuracy: 0.8021 - val_loss: 0.4566 - val_accuracy: 0.7940\n",
            "Epoch 79/100\n",
            "100/100 [==============================] - 21s 212ms/step - loss: 0.4036 - accuracy: 0.8083 - val_loss: 0.4452 - val_accuracy: 0.7980\n",
            "Epoch 80/100\n",
            "100/100 [==============================] - 21s 212ms/step - loss: 0.3767 - accuracy: 0.8407 - val_loss: 0.4488 - val_accuracy: 0.7850\n",
            "Epoch 81/100\n",
            "100/100 [==============================] - 20s 204ms/step - loss: 0.4395 - accuracy: 0.7788 - val_loss: 0.4881 - val_accuracy: 0.7820\n",
            "Epoch 82/100\n",
            "100/100 [==============================] - 20s 202ms/step - loss: 0.4170 - accuracy: 0.7955 - val_loss: 0.4662 - val_accuracy: 0.8060\n",
            "Epoch 83/100\n",
            "100/100 [==============================] - 20s 200ms/step - loss: 0.4130 - accuracy: 0.8109 - val_loss: 0.5173 - val_accuracy: 0.7550\n",
            "Epoch 84/100\n",
            "100/100 [==============================] - 20s 204ms/step - loss: 0.4068 - accuracy: 0.8173 - val_loss: 0.4577 - val_accuracy: 0.8110\n",
            "Epoch 85/100\n",
            "100/100 [==============================] - 21s 206ms/step - loss: 0.4239 - accuracy: 0.8053 - val_loss: 0.4391 - val_accuracy: 0.8200\n",
            "Epoch 86/100\n",
            "100/100 [==============================] - 20s 203ms/step - loss: 0.3841 - accuracy: 0.8244 - val_loss: 0.4195 - val_accuracy: 0.8220\n",
            "Epoch 87/100\n",
            "100/100 [==============================] - 20s 204ms/step - loss: 0.3762 - accuracy: 0.8246 - val_loss: 0.4803 - val_accuracy: 0.7960\n",
            "Epoch 88/100\n",
            "100/100 [==============================] - 20s 204ms/step - loss: 0.4094 - accuracy: 0.8046 - val_loss: 0.4126 - val_accuracy: 0.8160\n",
            "Epoch 89/100\n",
            "100/100 [==============================] - 20s 203ms/step - loss: 0.4035 - accuracy: 0.8172 - val_loss: 0.4341 - val_accuracy: 0.8090\n",
            "Epoch 90/100\n",
            "100/100 [==============================] - 20s 204ms/step - loss: 0.3735 - accuracy: 0.8424 - val_loss: 0.4131 - val_accuracy: 0.8120\n",
            "Epoch 91/100\n",
            "100/100 [==============================] - 20s 204ms/step - loss: 0.3952 - accuracy: 0.8188 - val_loss: 0.4761 - val_accuracy: 0.8000\n",
            "Epoch 92/100\n",
            "100/100 [==============================] - 20s 205ms/step - loss: 0.3900 - accuracy: 0.8206 - val_loss: 0.4292 - val_accuracy: 0.8120\n",
            "Epoch 93/100\n",
            "100/100 [==============================] - 20s 205ms/step - loss: 0.3749 - accuracy: 0.8228 - val_loss: 0.4222 - val_accuracy: 0.8210\n",
            "Epoch 94/100\n",
            "100/100 [==============================] - 21s 207ms/step - loss: 0.3974 - accuracy: 0.8112 - val_loss: 0.4756 - val_accuracy: 0.8040\n",
            "Epoch 95/100\n",
            "100/100 [==============================] - 21s 206ms/step - loss: 0.3977 - accuracy: 0.8227 - val_loss: 0.4457 - val_accuracy: 0.8080\n",
            "Epoch 96/100\n",
            "100/100 [==============================] - 20s 202ms/step - loss: 0.4006 - accuracy: 0.8214 - val_loss: 0.4729 - val_accuracy: 0.8120\n",
            "Epoch 97/100\n",
            "100/100 [==============================] - 20s 201ms/step - loss: 0.3835 - accuracy: 0.8335 - val_loss: 0.4656 - val_accuracy: 0.7750\n",
            "Epoch 98/100\n",
            "100/100 [==============================] - 20s 200ms/step - loss: 0.3620 - accuracy: 0.8446 - val_loss: 0.4127 - val_accuracy: 0.8160\n",
            "Epoch 99/100\n",
            "100/100 [==============================] - 20s 201ms/step - loss: 0.3640 - accuracy: 0.8502 - val_loss: 0.4158 - val_accuracy: 0.8180\n",
            "Epoch 100/100\n",
            "100/100 [==============================] - 20s 202ms/step - loss: 0.3899 - accuracy: 0.8298 - val_loss: 0.4382 - val_accuracy: 0.7960\n"
          ],
          "name": "stdout"
        }
      ]
    },
    {
      "cell_type": "code",
      "metadata": {
        "colab": {
          "base_uri": "https://localhost:8080/",
          "height": 590
        },
        "id": "gAPqNeog5Un8",
        "outputId": "2618f912-3e74-40bd-d2c2-6beebf671b8e"
      },
      "source": [
        "import matplotlib.pylab as plt\n",
        "import tensorflow as tf\n",
        "\n",
        "# Saving our model\n",
        "model2.save('Cats&Dogs')\n",
        "\n",
        "training_loss = history2.history['loss']\n",
        "training_acc = history2.history['accuracy']\n",
        "val_loss = history2.history['val_loss']\n",
        "val_acc = history2.history['val_accuracy']\n",
        "\n",
        "epochs = tf.linspace(0,100,100)\n",
        "\n",
        "plt.plot(epochs,training_loss,'bo',label='Training Loss')\n",
        "plt.plot(epochs,val_loss,'g',label='Validation Loss')\n",
        "plt.xlabel(\"Epoch\")\n",
        "plt.ylabel('Loss')\n",
        "plt.title(\"Loss and Epochs\")\n",
        "plt.legend(loc=1)\n",
        "plt.show()\n",
        "\n",
        "plt.plot(epochs,training_acc,'bo',label='Training Accuracy')\n",
        "plt.plot(epochs,val_acc,'g',label='Validation Accuracy')\n",
        "plt.xlabel(\"Epoch\")\n",
        "plt.ylabel('Accuracy')\n",
        "plt.title(\"Accuracy and Epochs\")\n",
        "plt.legend(loc=4)\n",
        "plt.show()"
      ],
      "execution_count": 34,
      "outputs": [
        {
          "output_type": "stream",
          "text": [
            "INFO:tensorflow:Assets written to: Cats&Dogs/assets\n"
          ],
          "name": "stdout"
        },
        {
          "output_type": "display_data",
          "data": {
            "image/png": "[encoded data removed]",
            "text/plain": [
              "<Figure size 432x288 with 1 Axes>"
            ]
          },
          "metadata": {
            "tags": [],
            "needs_background": "light"
          }
        },
        {
          "output_type": "display_data",
          "data": {
            "image/png": "[encoded data removed]",
            "text/plain": [
              "<Figure size 432x288 with 1 Axes>"
            ]
          },
          "metadata": {
            "tags": [],
            "needs_background": "light"
          }
        }
      ]
    },
    {
      "cell_type": "code",
      "metadata": {
        "colab": {
          "base_uri": "https://localhost:8080/"
        },
        "id": "oEa5rJ049v86",
        "outputId": "a6515dde-d939-4beb-db1d-f4ef583b73ff"
      },
      "source": [
        "import numpy as np\n",
        "np.argmax(val_acc)"
      ],
      "execution_count": 32,
      "outputs": [
        {
          "output_type": "execute_result",
          "data": {
            "text/plain": [
              "85"
            ]
          },
          "metadata": {
            "tags": []
          },
          "execution_count": 32
        }
      ]
    },
    {
      "cell_type": "markdown",
      "metadata": {
        "id": "5ohymSVS-8dC"
      },
      "source": [
        "The best validation accuracy is seen after 84 Epochs, and we are able to obtain 82% accuracy.  We may be able to improve our accuracy a few percentage points by fine tuning our hyperparameters, but in order to see a larger improvement, we'll have to either use more data or use a pretrained network."
      ]
    }
  ]
}