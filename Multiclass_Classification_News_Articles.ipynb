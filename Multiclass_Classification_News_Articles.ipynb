{
  "nbformat": 4,
  "nbformat_minor": 0,
  "metadata": {
    "colab": {
      "name": "Multiclass Classification - News Articles.ipynb",
      "provenance": [],
      "collapsed_sections": [],
      "authorship_tag": "ABX9TyNPNfKPck3L8939i4LIMQxR",
      "include_colab_link": true
    },
    "kernelspec": {
      "name": "python3",
      "display_name": "Python 3"
    },
    "language_info": {
      "name": "python"
    }
  },
  "cells": [
    {
      "cell_type": "markdown",
      "metadata": {
        "id": "view-in-github",
        "colab_type": "text"
      },
      "source": [
        "<a href=\"https://colab.research.google.com/github/robfonti/Deep-Learning/blob/Projects/Multiclass_Classification_News_Articles.ipynb\" target=\"_parent\"><img src=\"https://colab.research.google.com/assets/colab-badge.svg\" alt=\"Open In Colab\"/></a>"
      ]
    },
    {
      "cell_type": "markdown",
      "metadata": {
        "id": "dIkr0GF0_VIr"
      },
      "source": [
        "Classifying reuters news articles into one of 46 classes. This is a widely used data set for text classification.  There are 46 different topics, some of which are more well represented than others, but all of which have at least 10 examples in the training set.  This data set comes pre-packaged in keras."
      ]
    },
    {
      "cell_type": "code",
      "metadata": {
        "id": "oIW_zOOb0J9z"
      },
      "source": [
        "import tensorflow as tf\n",
        "import numpy as np\n",
        "import matplotlib.pylab as plt\n",
        "import pandas as pd\n",
        "from tensorflow import keras"
      ],
      "execution_count": null,
      "outputs": []
    },
    {
      "cell_type": "code",
      "metadata": {
        "colab": {
          "base_uri": "https://localhost:8080/"
        },
        "id": "zODnp5w_A9rz",
        "outputId": "138ae655-039e-4b4c-d4b8-a8003f5fda7a"
      },
      "source": [
        "from keras.datasets import reuters\n",
        "\n",
        "(train_data,train_labels),(test_data,test_labels) = reuters.load_data(num_words = 10000)"
      ],
      "execution_count": null,
      "outputs": [
        {
          "output_type": "stream",
          "text": [
            "/usr/local/lib/python3.7/dist-packages/tensorflow/python/keras/datasets/reuters.py:148: VisibleDeprecationWarning: Creating an ndarray from ragged nested sequences (which is a list-or-tuple of lists-or-tuples-or ndarrays with different lengths or shapes) is deprecated. If you meant to do this, you must specify 'dtype=object' when creating the ndarray\n",
            "  x_train, y_train = np.array(xs[:idx]), np.array(labels[:idx])\n",
            "/usr/local/lib/python3.7/dist-packages/tensorflow/python/keras/datasets/reuters.py:149: VisibleDeprecationWarning: Creating an ndarray from ragged nested sequences (which is a list-or-tuple of lists-or-tuples-or ndarrays with different lengths or shapes) is deprecated. If you meant to do this, you must specify 'dtype=object' when creating the ndarray\n",
            "  x_test, y_test = np.array(xs[idx:]), np.array(labels[idx:])\n"
          ],
          "name": "stderr"
        }
      ]
    },
    {
      "cell_type": "code",
      "metadata": {
        "colab": {
          "base_uri": "https://localhost:8080/"
        },
        "id": "WtwW-sK3BPvS",
        "outputId": "fbda8e72-f3a0-4236-a6dd-85f83edfaa60"
      },
      "source": [
        "print(\"Length of training data:\",len(train_data))\n",
        "print(\"Length of test data:\",len(test_data))"
      ],
      "execution_count": null,
      "outputs": [
        {
          "output_type": "stream",
          "text": [
            "Length of training data: 8982\n",
            "Length of test data: 2246\n"
          ],
          "name": "stdout"
        }
      ]
    },
    {
      "cell_type": "markdown",
      "metadata": {
        "id": "g8endv7gBiJm"
      },
      "source": [
        "Each example is a list of integers (word indices). Ex a 400 word article would be a list of length 400, with each integer corresponding to a unique word in the dictionary."
      ]
    },
    {
      "cell_type": "code",
      "metadata": {
        "colab": {
          "base_uri": "https://localhost:8080/",
          "height": 69
        },
        "id": "EJh_inlrByfi",
        "outputId": "a8022b7e-26f3-4b32-8718-8114eb4b97a2"
      },
      "source": [
        "# Heres how to decode the list of integers back to words\n",
        "word_index = reuters.get_word_index() # Just tells you what word corresponds to what integer.\n",
        "\n",
        "# We need to reverse this. We need what integer corresponds to what word\n",
        "int_to_word_dict = dict([(value,key) for key,value in word_index.items()])\n",
        " \n",
        "# the indices are off by 3, because 0,1,and 2 are reserved for \"padding\",\"start of sequence\", and \"unknown\"\n",
        "def decode_newswire(coded_newswire):  \n",
        "  decoded_newswire = ' '.join(int_to_word_dict.get(i-3,'?') for i in coded_newswire) # I believe the '?' just defaults to a ? for numbers not seen. (0,1,2)\n",
        "  return decoded_newswire\n",
        "\n",
        "decode_newswire(train_data[0])            "
      ],
      "execution_count": null,
      "outputs": [
        {
          "output_type": "execute_result",
          "data": {
            "application/vnd.google.colaboratory.intrinsic+json": {
              "type": "string"
            },
            "text/plain": [
              "'? ? ? said as a result of its december acquisition of space co it expects earnings per share in 1987 of 1 15 to 1 30 dlrs per share up from 70 cts in 1986 the company said pretax net should rise to nine to 10 mln dlrs from six mln dlrs in 1986 and rental operation revenues to 19 to 22 mln dlrs from 12 5 mln dlrs it said cash flow per share this year should be 2 50 to three dlrs reuter 3'"
            ]
          },
          "metadata": {
            "tags": []
          },
          "execution_count": 23
        }
      ]
    },
    {
      "cell_type": "markdown",
      "metadata": {
        "id": "mcZYer5tK3bY"
      },
      "source": [
        "Next we have to vectorize the data.  Remember, we can not feed lists into a neural network.  Data and labels need to be in the form of numpy tensors."
      ]
    },
    {
      "cell_type": "code",
      "metadata": {
        "id": "KYxEQApfK_Ie"
      },
      "source": [
        "def vectorize_sequences(sequences, dimension = 10000):  # This is a one-hot encoding\n",
        "  # This is a matrix. a 2D tensor, with all possible words as columns, and length of training data (all reviews) set as rows. \n",
        "  vectorized_output = np.zeros((len(sequences),dimension)) \n",
        "\n",
        "  for i,sequence in enumerate(sequences):\n",
        "    vectorized_output[i,sequence] = 1\n",
        "  \n",
        "  return vectorized_output\n"
      ],
      "execution_count": null,
      "outputs": []
    },
    {
      "cell_type": "code",
      "metadata": {
        "id": "JjLiozubCcBg"
      },
      "source": [
        "# Now to vectorize the data\n",
        "\n",
        "x_train = vectorize_sequences(train_data)\n",
        "x_test = vectorize_sequences(test_data)\n",
        "\n",
        "# Now to vectorize the labels. Same thing, one hot encoding to create an all zero vector except for where the category is. categories 0-46\n",
        "\n",
        "# This function will take in a list of labels 0-46 (ex. [2,15,9,18,....]) and return a matrix of 0's with a 1 in the location of the label.\n",
        "# Rows are size of training data\n",
        "def onehot_labels(labels,dimension=46):\n",
        "  one_hotted_labels = np.zeros((len(labels),dimension))\n",
        "  for i,label in enumerate(labels):\n",
        "    one_hotted_labels[i,label] = 1\n",
        "  return one_hotted_labels\n",
        "\n",
        "OH_train_labels = onehot_labels(train_labels)\n",
        "OH_test_labels = onehot_labels(test_labels)"
      ],
      "execution_count": null,
      "outputs": []
    },
    {
      "cell_type": "markdown",
      "metadata": {
        "id": "DPW7B4_gH6KM"
      },
      "source": [
        "**NOTE: Now that you've done this twice, know that there is a built in way to one hot encode labels in keras.**\n",
        "\n",
        "The method is called *to_categorical* "
      ]
    },
    {
      "cell_type": "code",
      "metadata": {
        "id": "o_wmg8LyH414"
      },
      "source": [
        "from keras.utils.np_utils import to_categorical\n",
        "\n",
        "train_labels = to_categorical(train_labels)\n",
        "test_labels = to_categorical(test_labels)\n"
      ],
      "execution_count": null,
      "outputs": []
    },
    {
      "cell_type": "markdown",
      "metadata": {
        "id": "kf3zqxF6yGID"
      },
      "source": [
        "Now lets build our network.  There are now 46 outputs, we'll need 46 output nodes in the final layer.\n",
        "\n",
        "Also, the number of units in the initial layers should be greater than 46. We used 16 for the binary classifcation problem, but 16 neurons will likely be too few to effectively distinguish between 46 different classes.  If we lose information in the first layer, that information can never be recovered.  We dont want any information bottlenecks, and therefore we should choose a higher number of neurons in these layers."
      ]
    },
    {
      "cell_type": "code",
      "metadata": {
        "id": "ag8nMRShyS7P"
      },
      "source": [
        "# Layout the network\n",
        "model = keras.Sequential()\n",
        "model.add(keras.layers.Dense(units=64,input_shape=(10000,),activation='relu'))\n",
        "model.add(keras.layers.Dense(units=64,activation='relu'))\n",
        "model.add(keras.layers.Dense(units=46,activation='softmax')) # Last layer softmax to confer probability of entry falling into each of the 46 catgories\n",
        "\n",
        "# Choose optimizer, loss, metrics\n",
        "model.compile(optimizer='rmsprop',loss='categorical_crossentropy',metrics=['accuracy'])\n"
      ],
      "execution_count": null,
      "outputs": []
    },
    {
      "cell_type": "code",
      "metadata": {
        "id": "TbUxpb1UIwUt"
      },
      "source": [
        "# Lets set aside some validation data.\n",
        "\n",
        "x_val = x_train[0:1000]\n",
        "val_labels = train_labels[0:1000]\n",
        "\n",
        "partial_x_train = x_train[1000:]\n",
        "partial_x_train_labels = train_labels[1000:]"
      ],
      "execution_count": null,
      "outputs": []
    },
    {
      "cell_type": "code",
      "metadata": {
        "colab": {
          "base_uri": "https://localhost:8080/"
        },
        "id": "33pDIvp13K84",
        "outputId": "7345c675-3809-47b7-9b37-97daf6321b5a"
      },
      "source": [
        "# Fitting the model, evaluating on the training data.\n",
        "\n",
        "model.fit(partial_x_train,\n",
        "          partial_x_train_labels,\n",
        "          validation_data=(x_val,val_labels),\n",
        "          batch_size=512,epochs=20)"
      ],
      "execution_count": null,
      "outputs": [
        {
          "output_type": "stream",
          "text": [
            "Epoch 1/20\n",
            "16/16 [==============================] - 2s 71ms/step - loss: 3.1046 - accuracy: 0.4228 - val_loss: 1.7214 - val_accuracy: 0.6410\n",
            "Epoch 2/20\n",
            "16/16 [==============================] - 1s 51ms/step - loss: 1.4780 - accuracy: 0.6895 - val_loss: 1.2999 - val_accuracy: 0.6990\n",
            "Epoch 3/20\n",
            "16/16 [==============================] - 1s 49ms/step - loss: 1.0636 - accuracy: 0.7655 - val_loss: 1.1201 - val_accuracy: 0.7690\n",
            "Epoch 4/20\n",
            "16/16 [==============================] - 1s 49ms/step - loss: 0.8410 - accuracy: 0.8276 - val_loss: 1.0267 - val_accuracy: 0.7730\n",
            "Epoch 5/20\n",
            "16/16 [==============================] - 1s 49ms/step - loss: 0.6739 - accuracy: 0.8629 - val_loss: 0.9587 - val_accuracy: 0.7920\n",
            "Epoch 6/20\n",
            "16/16 [==============================] - 1s 48ms/step - loss: 0.5047 - accuracy: 0.8973 - val_loss: 0.8978 - val_accuracy: 0.8050\n",
            "Epoch 7/20\n",
            "16/16 [==============================] - 1s 49ms/step - loss: 0.4102 - accuracy: 0.9154 - val_loss: 0.8886 - val_accuracy: 0.8110\n",
            "Epoch 8/20\n",
            "16/16 [==============================] - 1s 49ms/step - loss: 0.3268 - accuracy: 0.9324 - val_loss: 0.8708 - val_accuracy: 0.8160\n",
            "Epoch 9/20\n",
            "16/16 [==============================] - 1s 48ms/step - loss: 0.2704 - accuracy: 0.9410 - val_loss: 0.8993 - val_accuracy: 0.8070\n",
            "Epoch 10/20\n",
            "16/16 [==============================] - 1s 50ms/step - loss: 0.2334 - accuracy: 0.9447 - val_loss: 0.9257 - val_accuracy: 0.8000\n",
            "Epoch 11/20\n",
            "16/16 [==============================] - 1s 50ms/step - loss: 0.1961 - accuracy: 0.9525 - val_loss: 0.9116 - val_accuracy: 0.8130\n",
            "Epoch 12/20\n",
            "16/16 [==============================] - 1s 51ms/step - loss: 0.1636 - accuracy: 0.9597 - val_loss: 0.9831 - val_accuracy: 0.8030\n",
            "Epoch 13/20\n",
            "16/16 [==============================] - 1s 49ms/step - loss: 0.1537 - accuracy: 0.9587 - val_loss: 0.9516 - val_accuracy: 0.8070\n",
            "Epoch 14/20\n",
            "16/16 [==============================] - 1s 50ms/step - loss: 0.1419 - accuracy: 0.9596 - val_loss: 0.9752 - val_accuracy: 0.8060\n",
            "Epoch 15/20\n",
            "16/16 [==============================] - 1s 52ms/step - loss: 0.1244 - accuracy: 0.9625 - val_loss: 0.9560 - val_accuracy: 0.8140\n",
            "Epoch 16/20\n",
            "16/16 [==============================] - 1s 48ms/step - loss: 0.1187 - accuracy: 0.9632 - val_loss: 1.0390 - val_accuracy: 0.8010\n",
            "Epoch 17/20\n",
            "16/16 [==============================] - 1s 50ms/step - loss: 0.1092 - accuracy: 0.9635 - val_loss: 1.0512 - val_accuracy: 0.8010\n",
            "Epoch 18/20\n",
            "16/16 [==============================] - 1s 50ms/step - loss: 0.1115 - accuracy: 0.9588 - val_loss: 1.1347 - val_accuracy: 0.7870\n",
            "Epoch 19/20\n",
            "16/16 [==============================] - 1s 49ms/step - loss: 0.1003 - accuracy: 0.9639 - val_loss: 1.0242 - val_accuracy: 0.8050\n",
            "Epoch 20/20\n",
            "16/16 [==============================] - 1s 49ms/step - loss: 0.0998 - accuracy: 0.9632 - val_loss: 1.0581 - val_accuracy: 0.8050\n"
          ],
          "name": "stdout"
        },
        {
          "output_type": "execute_result",
          "data": {
            "text/plain": [
              "<tensorflow.python.keras.callbacks.History at 0x7f2e70d32390>"
            ]
          },
          "metadata": {
            "tags": []
          },
          "execution_count": 39
        }
      ]
    },
    {
      "cell_type": "code",
      "metadata": {
        "colab": {
          "base_uri": "https://localhost:8080/",
          "height": 573
        },
        "id": "BAI_6WJT7I0c",
        "outputId": "9c8415d0-c057-4677-f670-1ca7f37f9931"
      },
      "source": [
        "# Lets plot the training/validation results\n",
        "\n",
        "history_dict = model.history\n",
        "loss = history_dict.history['loss']\n",
        "val_loss = history_dict.history['val_loss']\n",
        "training_acc = history_dict.history['accuracy']\n",
        "val_acc = history_dict.history['val_accuracy']\n",
        "epochs = tf.linspace(0,20,20)\n",
        "\n",
        "plt.plot(epochs,loss,'bo',label='Training Loss')\n",
        "plt.plot(epochs,val_loss,'go',label='Validation Loss')\n",
        "plt.xlabel('Epochs')\n",
        "plt.ylabel('Loss')\n",
        "plt.legend(loc=1)\n",
        "plt.title(\"Loss vs. Epochs\")\n",
        "plt.show()\n",
        "\n",
        "plt.plot(epochs,training_acc,'bo',label='Training Accuracy')\n",
        "plt.plot(epochs,val_acc,'go',label='Validation Accuracy')\n",
        "plt.xlabel('Epochs')\n",
        "plt.ylabel('Accuracy')\n",
        "plt.legend(loc=1)\n",
        "plt.title(\"Accuracy vs. Epochs\")\n",
        "plt.show()"
      ],
      "execution_count": null,
      "outputs": [
        {
          "output_type": "display_data",
          "data": {
            "image/png": "[encoded data removed]",
            "text/plain": [
              "<Figure size 432x288 with 1 Axes>"
            ]
          },
          "metadata": {
            "tags": [],
            "needs_background": "light"
          }
        },
        {
          "output_type": "display_data",
          "data": {
            "image/png": "[encoded data removed]",
            "text/plain": [
              "<Figure size 432x288 with 1 Axes>"
            ]
          },
          "metadata": {
            "tags": [],
            "needs_background": "light"
          }
        }
      ]
    },
    {
      "cell_type": "code",
      "metadata": {
        "colab": {
          "base_uri": "https://localhost:8080/"
        },
        "id": "uVcWHtWc9hjm",
        "outputId": "ebc36c93-d9f0-4722-928a-c9402a7fad14"
      },
      "source": [
        "print(val_acc)\n",
        "\n",
        "# Looks like the model starts to overfit after 8 epochs.  Lets train a new model and stop at 8 epochs\n",
        "\n",
        "model2 = keras.Sequential()\n",
        "model2.add(keras.layers.Dense(units=64,input_shape=(10000,),activation='relu'))\n",
        "model2.add(keras.layers.Dense(units=64,activation='relu'))\n",
        "model2.add(keras.layers.Dense(units=46,activation='softmax'))\n",
        "\n",
        "model2.compile(optimizer='rmsprop',loss='categorical_crossentropy',metrics=['accuracy'])"
      ],
      "execution_count": null,
      "outputs": [
        {
          "output_type": "stream",
          "text": [
            "[0.640999972820282, 0.6990000009536743, 0.7689999938011169, 0.7730000019073486, 0.7919999957084656, 0.8050000071525574, 0.8109999895095825, 0.8159999847412109, 0.8069999814033508, 0.800000011920929, 0.8130000233650208, 0.8029999732971191, 0.8069999814033508, 0.8059999942779541, 0.8140000104904175, 0.8009999990463257, 0.8009999990463257, 0.7870000004768372, 0.8050000071525574, 0.8050000071525574]\n"
          ],
          "name": "stdout"
        }
      ]
    },
    {
      "cell_type": "code",
      "metadata": {
        "colab": {
          "base_uri": "https://localhost:8080/"
        },
        "id": "m3W0CFZT-tLh",
        "outputId": "80f84530-0366-4009-9878-af7a63641042"
      },
      "source": [
        "history2 = model2.fit(partial_x_train,\n",
        "           partial_x_train_labels,\n",
        "           validation_data=(x_val,val_labels),\n",
        "           batch_size=512,\n",
        "           epochs=8)"
      ],
      "execution_count": null,
      "outputs": [
        {
          "output_type": "stream",
          "text": [
            "Epoch 1/8\n",
            "16/16 [==============================] - 1s 63ms/step - loss: 3.2218 - accuracy: 0.3639 - val_loss: 1.8015 - val_accuracy: 0.6540\n",
            "Epoch 2/8\n",
            "16/16 [==============================] - 1s 50ms/step - loss: 1.5683 - accuracy: 0.6929 - val_loss: 1.3645 - val_accuracy: 0.7160\n",
            "Epoch 3/8\n",
            "16/16 [==============================] - 1s 49ms/step - loss: 1.1435 - accuracy: 0.7601 - val_loss: 1.1760 - val_accuracy: 0.7500\n",
            "Epoch 4/8\n",
            "16/16 [==============================] - 1s 48ms/step - loss: 0.8871 - accuracy: 0.8071 - val_loss: 1.0567 - val_accuracy: 0.7830\n",
            "Epoch 5/8\n",
            "16/16 [==============================] - 1s 50ms/step - loss: 0.6872 - accuracy: 0.8542 - val_loss: 0.9997 - val_accuracy: 0.7880\n",
            "Epoch 6/8\n",
            "16/16 [==============================] - 1s 49ms/step - loss: 0.5653 - accuracy: 0.8796 - val_loss: 0.9388 - val_accuracy: 0.8200\n",
            "Epoch 7/8\n",
            "16/16 [==============================] - 1s 48ms/step - loss: 0.4559 - accuracy: 0.9064 - val_loss: 0.9151 - val_accuracy: 0.8200\n",
            "Epoch 8/8\n",
            "16/16 [==============================] - 1s 50ms/step - loss: 0.3707 - accuracy: 0.9256 - val_loss: 0.8974 - val_accuracy: 0.8200\n"
          ],
          "name": "stdout"
        }
      ]
    },
    {
      "cell_type": "code",
      "metadata": {
        "colab": {
          "base_uri": "https://localhost:8080/",
          "height": 573
        },
        "id": "DAxlgbpZ_AI-",
        "outputId": "29ec326a-013b-4e46-92e1-9577b8aa9762"
      },
      "source": [
        "train_loss = history2.history['loss']\n",
        "val_loss = history2.history['val_loss']\n",
        "train_acc = history2.history['accuracy']\n",
        "val_acc = history2.history['val_accuracy']\n",
        "epochs = tf.linspace(0,8,8)\n",
        "\n",
        "plt.plot(epochs,train_loss,'bo',label='Training Loss')\n",
        "plt.plot(epochs,val_loss,'go',label='Validation Loss')\n",
        "plt.xlabel(\"Epochs\")\n",
        "plt.ylabel(\"Loss\")\n",
        "plt.title(\"Epochs vs. Loss\")\n",
        "plt.legend(loc=1)\n",
        "plt.show()\n",
        "\n",
        "plt.plot(epochs,train_acc,'bo',label='Training Accuracy')\n",
        "plt.plot(epochs,val_acc,'go',label='Validation Accuracy')\n",
        "plt.xlabel(\"Epochs\")\n",
        "plt.ylabel(\"Accuracy\")\n",
        "plt.title(\"Epochs vs. Accuracy\")\n",
        "plt.legend(loc=1)\n",
        "plt.show()"
      ],
      "execution_count": null,
      "outputs": [
        {
          "output_type": "display_data",
          "data": {
            "image/png": "[encoded data removed]",
            "text/plain": [
              "<Figure size 432x288 with 1 Axes>"
            ]
          },
          "metadata": {
            "tags": [],
            "needs_background": "light"
          }
        },
        {
          "output_type": "display_data",
          "data": {
            "image/png": "[encoded data removed]",
            "text/plain": [
              "<Figure size 432x288 with 1 Axes>"
            ]
          },
          "metadata": {
            "tags": [],
            "needs_background": "light"
          }
        }
      ]
    },
    {
      "cell_type": "code",
      "metadata": {
        "colab": {
          "base_uri": "https://localhost:8080/"
        },
        "id": "_ftTw_UDA8kj",
        "outputId": "20b5a634-fa9d-473d-87bc-ee17755ac03f"
      },
      "source": [
        "# Now lets get some results!\n",
        "\n",
        "results = model2.evaluate(x_test,test_labels)\n",
        "results"
      ],
      "execution_count": null,
      "outputs": [
        {
          "output_type": "stream",
          "text": [
            "71/71 [==============================] - 0s 3ms/step - loss: 0.9794 - accuracy: 0.7850\n"
          ],
          "name": "stdout"
        },
        {
          "output_type": "execute_result",
          "data": {
            "text/plain": [
              "[0.9794387221336365, 0.7849510312080383]"
            ]
          },
          "metadata": {
            "tags": []
          },
          "execution_count": 67
        }
      ]
    },
    {
      "cell_type": "code",
      "metadata": {
        "colab": {
          "base_uri": "https://localhost:8080/"
        },
        "id": "2CaFxh1lDbL8",
        "outputId": "3b37bf70-b486-47f6-c7b3-386407c0a771"
      },
      "source": [
        "# We can examine the prections to get a feel for some things\n",
        "\n",
        "predictions = model2.predict(x_test)\n",
        "\n",
        "# Can inspect 1st prediction just to get a feel for the output.\n",
        "print(predictions[0].shape)\n",
        "print(predictions[0])\n",
        "print(max(predictions[0]))\n",
        "print(np.argmax(predictions[0])) # np.argmax is a super useful function"
      ],
      "execution_count": null,
      "outputs": [
        {
          "output_type": "stream",
          "text": [
            "(46,)\n",
            "[2.30626611e-05 9.94680304e-05 2.73294045e-05 7.82320321e-01\n",
            " 2.08567217e-01 1.29967839e-05 7.92603314e-05 1.88695398e-04\n",
            " 7.71638006e-04 6.95763592e-05 3.09880534e-06 8.42408452e-04\n",
            " 6.17862534e-05 1.06866784e-04 2.01561008e-04 2.32153652e-05\n",
            " 2.00302713e-03 2.31787199e-04 1.40359771e-04 6.22824591e-04\n",
            " 5.93177159e-04 1.14088398e-04 2.17227152e-05 9.86266332e-06\n",
            " 3.07521213e-06 3.85315827e-04 2.09547306e-06 2.48932738e-05\n",
            " 1.42355188e-04 1.60040508e-04 7.75462286e-06 2.59247201e-04\n",
            " 3.59243713e-05 1.03224074e-05 2.71069788e-04 4.14500500e-05\n",
            " 1.56533817e-04 1.14530892e-04 6.87773763e-07 7.52878317e-04\n",
            " 2.03574837e-05 3.14143283e-04 2.28988051e-06 2.13161347e-05\n",
            " 1.29757856e-04 8.61166791e-06]\n",
            "0.7823203\n",
            "3\n"
          ],
          "name": "stdout"
        }
      ]
    },
    {
      "cell_type": "markdown",
      "metadata": {
        "id": "VKPDFtOUEScb"
      },
      "source": [
        "## Key Takeaways\n",
        "- If you're trying to classify data points amond *N* classes, your network should end with a Dense layer with *N* units.\n",
        "- In a single label, multiclass classification problem, your network should end with a *softmax* activation function to encode the probabilities of each observation falling into each of the *N* classes.\n",
        "- Categorical crossentropy is almost always the loss function that you should choose when doing a multiclass classification problem.  It minimizes the distance between the probability distributions output by the network and the true distribution of the targets.\n",
        "- There are 2 ways to handle labels in multiclass classification:\n",
        "  - Encoding the labels via categorical encoding (aka one-hot encoding) and using a categorical cross-entropy loss function\n",
        "  - Encoding the labels as integers and using a sparse_categorical_crossentropy loss function\n",
        "- If you need to classify into a large number of subgroups (in this case 46), you should avoid including intermediate layers with less than *N* neurons.  This avoids information bottlenecks.  Very hard to encode information about 46 classes in a much lower dimensional space."
      ]
    }
  ]
}